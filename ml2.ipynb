{
 "cells": [
  {
   "cell_type": "code",
   "execution_count": 1,
   "metadata": {},
   "outputs": [],
   "source": [
    "import pandas as pd\n",
    "import numpy as np\n",
    "import pickle"
   ]
  },
  {
   "cell_type": "code",
   "execution_count": 2,
   "metadata": {},
   "outputs": [],
   "source": [
    "with (open(\"chgk/results.pkl\", \"rb\")) as openfile:\n",
    "    results = pickle.load(openfile)\n",
    "with (open(\"chgk/tournaments.pkl\", \"rb\")) as openfile:\n",
    "    tournaments = pickle.load(openfile)\n",
    "with (open(\"chgk/players.pkl\", \"rb\")) as openfile:\n",
    "    players = pickle.load(openfile)"
   ]
  },
  {
   "cell_type": "code",
   "execution_count": 3,
   "metadata": {},
   "outputs": [],
   "source": [
    "train_tournaments = {}\n",
    "test_tournaments = {}\n",
    "for key, value in tournaments.items():\n",
    "    if len(results[key]) and 'mask' in results[key][0]:\n",
    "        if results[key][0]['mask'] != None: \n",
    "            if int(value['dateStart'].split('-')[0]) == 2019:\n",
    "                train_tournaments[key] = value\n",
    "            if int(value['dateStart'].split('-')[0]) == 2020:\n",
    "                test_tournaments[key] = value"
   ]
  },
  {
   "cell_type": "markdown",
   "metadata": {},
   "source": [
    "Считаем веса вопросов"
   ]
  },
  {
   "cell_type": "code",
   "execution_count": 4,
   "metadata": {},
   "outputs": [
    {
     "name": "stderr",
     "output_type": "stream",
     "text": [
      "/opt/anaconda3/lib/python3.8/site-packages/numpy/core/fromnumeric.py:3372: RuntimeWarning: Mean of empty slice.\n",
      "  return _methods._mean(a, axis=axis, dtype=dtype,\n",
      "/opt/anaconda3/lib/python3.8/site-packages/numpy/core/_methods.py:170: RuntimeWarning: invalid value encountered in double_scalars\n",
      "  ret = ret.dtype.type(ret / rcount)\n"
     ]
    }
   ],
   "source": [
    "weights = {}\n",
    "for idx, data in train_tournaments.items():\n",
    "    totalQs = np.sum(list(data['questionQty'].values()))\n",
    "    masks = []\n",
    "    for team in results[idx]:\n",
    "        if team['mask'] and len(team['mask']) == totalQs and 'X' not in team['mask'] and '?' not in team['mask']:\n",
    "            masks.append(list(map(int, team['mask'])))\n",
    "    weights[idx] = 1 - np.mean(masks, axis=0)   \n",
    "    "
   ]
  },
  {
   "cell_type": "markdown",
   "metadata": {},
   "source": [
    "Создаем таблицу игроков и вопросов"
   ]
  },
  {
   "cell_type": "code",
   "execution_count": 5,
   "metadata": {},
   "outputs": [],
   "source": [
    "df = []\n",
    "for idx, data in train_tournaments.items():\n",
    "    totalQs = np.sum(list(data['questionQty'].values()))\n",
    "    \n",
    "    for team in results[idx]:\n",
    "        if team['mask'] and len(team['mask']) == totalQs and 'X' not in team['mask'] and '?' not in team['mask']:\n",
    "            mask = list(map(int, team['mask']))\n",
    "            for member in team[\"teamMembers\"]:\n",
    "                for iq in range(totalQs):\n",
    "                    df.append((member[\"player\"][\"id\"],\n",
    "                               weights[idx][iq],\n",
    "                               mask[iq],\n",
    "                               f\"{idx}_\"+str(iq),\n",
    "                               team['team']['id'],\n",
    "                               idx)) \n",
    "df = pd.DataFrame(df, columns=[\"player\", \"difficult\", \"answer\", \"question_id\", \"team_id\", \"tournament_id\"])"
   ]
  },
  {
   "cell_type": "code",
   "execution_count": 6,
   "metadata": {},
   "outputs": [
    {
     "data": {
      "text/html": [
       "<div>\n",
       "<style scoped>\n",
       "    .dataframe tbody tr th:only-of-type {\n",
       "        vertical-align: middle;\n",
       "    }\n",
       "\n",
       "    .dataframe tbody tr th {\n",
       "        vertical-align: top;\n",
       "    }\n",
       "\n",
       "    .dataframe thead th {\n",
       "        text-align: right;\n",
       "    }\n",
       "</style>\n",
       "<table border=\"1\" class=\"dataframe\">\n",
       "  <thead>\n",
       "    <tr style=\"text-align: right;\">\n",
       "      <th></th>\n",
       "      <th>player</th>\n",
       "      <th>difficult</th>\n",
       "      <th>answer</th>\n",
       "      <th>question_id</th>\n",
       "      <th>team_id</th>\n",
       "      <th>tournament_id</th>\n",
       "    </tr>\n",
       "  </thead>\n",
       "  <tbody>\n",
       "    <tr>\n",
       "      <th>0</th>\n",
       "      <td>6212</td>\n",
       "      <td>0.116883</td>\n",
       "      <td>1</td>\n",
       "      <td>4772_0</td>\n",
       "      <td>45556</td>\n",
       "      <td>4772</td>\n",
       "    </tr>\n",
       "    <tr>\n",
       "      <th>1</th>\n",
       "      <td>6212</td>\n",
       "      <td>0.220779</td>\n",
       "      <td>1</td>\n",
       "      <td>4772_1</td>\n",
       "      <td>45556</td>\n",
       "      <td>4772</td>\n",
       "    </tr>\n",
       "    <tr>\n",
       "      <th>2</th>\n",
       "      <td>6212</td>\n",
       "      <td>0.554113</td>\n",
       "      <td>1</td>\n",
       "      <td>4772_2</td>\n",
       "      <td>45556</td>\n",
       "      <td>4772</td>\n",
       "    </tr>\n",
       "    <tr>\n",
       "      <th>3</th>\n",
       "      <td>6212</td>\n",
       "      <td>0.480519</td>\n",
       "      <td>1</td>\n",
       "      <td>4772_3</td>\n",
       "      <td>45556</td>\n",
       "      <td>4772</td>\n",
       "    </tr>\n",
       "    <tr>\n",
       "      <th>4</th>\n",
       "      <td>6212</td>\n",
       "      <td>0.121212</td>\n",
       "      <td>1</td>\n",
       "      <td>4772_4</td>\n",
       "      <td>45556</td>\n",
       "      <td>4772</td>\n",
       "    </tr>\n",
       "  </tbody>\n",
       "</table>\n",
       "</div>"
      ],
      "text/plain": [
       "   player  difficult  answer question_id  team_id  tournament_id\n",
       "0    6212   0.116883       1      4772_0    45556           4772\n",
       "1    6212   0.220779       1      4772_1    45556           4772\n",
       "2    6212   0.554113       1      4772_2    45556           4772\n",
       "3    6212   0.480519       1      4772_3    45556           4772\n",
       "4    6212   0.121212       1      4772_4    45556           4772"
      ]
     },
     "execution_count": 6,
     "metadata": {},
     "output_type": "execute_result"
    }
   ],
   "source": [
    "df.head()\n"
   ]
  },
  {
   "cell_type": "markdown",
   "metadata": {},
   "source": [
    "## 2 часть"
   ]
  },
  {
   "cell_type": "markdown",
   "metadata": {},
   "source": [
    "Плотность распределения сложности вопрсоов"
   ]
  },
  {
   "cell_type": "code",
   "execution_count": 7,
   "metadata": {},
   "outputs": [
    {
     "data": {
      "image/png": "[encoded data removed]",
      "text/plain": [
       "<Figure size 432x288 with 1 Axes>"
      ]
     },
     "metadata": {
      "needs_background": "light"
     },
     "output_type": "display_data"
    }
   ],
   "source": [
    "import matplotlib.pyplot as plt\n",
    "nbins = 100\n",
    "density = plt.hist(df[\"difficult\"], bins=nbins, density=True)[0]"
   ]
  },
  {
   "cell_type": "markdown",
   "metadata": {},
   "source": [
    "Вычислим силу игрока как матожидание его предсказанной силы на вопросах всех сложностей"
   ]
  },
  {
   "cell_type": "code",
   "execution_count": 8,
   "metadata": {},
   "outputs": [],
   "source": [
    "# from sklearn.linear_model import LogisticRegression\n",
    "# player_rating = {}\n",
    "# all_players = df[\"player\"].unique()\n",
    "# model = LogisticRegression(C=100, solver=\"lbfgs\")\n",
    "# for player in all_players:\n",
    "#     train = df[df[\"player\"]==player]\n",
    "#     data_X = train[[\"difficult\"]]\n",
    "#     data_y = train[\"answer\"]\n",
    "#     if np.unique(data_y).shape[0] > 1:\n",
    "#         model.fit(data_X, data_y)\n",
    "#         predict = model.predict_proba(np.arange(0, 1, 0.01).reshape(-1, 1))[:, 1]\n",
    "#         rating = predict @ density / nbins # 0,01 - это шаг гистограммы\n",
    "#     else:\n",
    "#         rating = data_y.values[0]\n",
    "#     player_rating[player] = rating"
   ]
  },
  {
   "cell_type": "code",
   "execution_count": 9,
   "metadata": {},
   "outputs": [],
   "source": [
    "# if don't want to wait , just load from file\n",
    "# np.save(\"dataset.npy\", player_rating)\n",
    "player_rating = np.load(\"dataset.npy\", allow_pickle=True).tolist()"
   ]
  },
  {
   "cell_type": "code",
   "execution_count": 10,
   "metadata": {},
   "outputs": [],
   "source": [
    "avg = np.mean(list(player_rating.values()))"
   ]
  },
  {
   "cell_type": "code",
   "execution_count": 11,
   "metadata": {},
   "outputs": [],
   "source": [
    "df['player_rating'] = df['player'].apply(lambda x: player_rating[x])"
   ]
  },
  {
   "cell_type": "code",
   "execution_count": 12,
   "metadata": {},
   "outputs": [
    {
     "data": {
      "text/html": [
       "<div>\n",
       "<style scoped>\n",
       "    .dataframe tbody tr th:only-of-type {\n",
       "        vertical-align: middle;\n",
       "    }\n",
       "\n",
       "    .dataframe tbody tr th {\n",
       "        vertical-align: top;\n",
       "    }\n",
       "\n",
       "    .dataframe thead th {\n",
       "        text-align: right;\n",
       "    }\n",
       "</style>\n",
       "<table border=\"1\" class=\"dataframe\">\n",
       "  <thead>\n",
       "    <tr style=\"text-align: right;\">\n",
       "      <th></th>\n",
       "      <th>player</th>\n",
       "      <th>difficult</th>\n",
       "      <th>answer</th>\n",
       "      <th>question_id</th>\n",
       "      <th>team_id</th>\n",
       "      <th>tournament_id</th>\n",
       "      <th>player_rating</th>\n",
       "    </tr>\n",
       "  </thead>\n",
       "  <tbody>\n",
       "    <tr>\n",
       "      <th>0</th>\n",
       "      <td>6212</td>\n",
       "      <td>0.116883</td>\n",
       "      <td>1</td>\n",
       "      <td>4772_0</td>\n",
       "      <td>45556</td>\n",
       "      <td>4772</td>\n",
       "      <td>0.70718</td>\n",
       "    </tr>\n",
       "    <tr>\n",
       "      <th>1</th>\n",
       "      <td>6212</td>\n",
       "      <td>0.220779</td>\n",
       "      <td>1</td>\n",
       "      <td>4772_1</td>\n",
       "      <td>45556</td>\n",
       "      <td>4772</td>\n",
       "      <td>0.70718</td>\n",
       "    </tr>\n",
       "    <tr>\n",
       "      <th>2</th>\n",
       "      <td>6212</td>\n",
       "      <td>0.554113</td>\n",
       "      <td>1</td>\n",
       "      <td>4772_2</td>\n",
       "      <td>45556</td>\n",
       "      <td>4772</td>\n",
       "      <td>0.70718</td>\n",
       "    </tr>\n",
       "    <tr>\n",
       "      <th>3</th>\n",
       "      <td>6212</td>\n",
       "      <td>0.480519</td>\n",
       "      <td>1</td>\n",
       "      <td>4772_3</td>\n",
       "      <td>45556</td>\n",
       "      <td>4772</td>\n",
       "      <td>0.70718</td>\n",
       "    </tr>\n",
       "    <tr>\n",
       "      <th>4</th>\n",
       "      <td>6212</td>\n",
       "      <td>0.121212</td>\n",
       "      <td>1</td>\n",
       "      <td>4772_4</td>\n",
       "      <td>45556</td>\n",
       "      <td>4772</td>\n",
       "      <td>0.70718</td>\n",
       "    </tr>\n",
       "  </tbody>\n",
       "</table>\n",
       "</div>"
      ],
      "text/plain": [
       "   player  difficult  answer question_id  team_id  tournament_id  \\\n",
       "0    6212   0.116883       1      4772_0    45556           4772   \n",
       "1    6212   0.220779       1      4772_1    45556           4772   \n",
       "2    6212   0.554113       1      4772_2    45556           4772   \n",
       "3    6212   0.480519       1      4772_3    45556           4772   \n",
       "4    6212   0.121212       1      4772_4    45556           4772   \n",
       "\n",
       "   player_rating  \n",
       "0        0.70718  \n",
       "1        0.70718  \n",
       "2        0.70718  \n",
       "3        0.70718  \n",
       "4        0.70718  "
      ]
     },
     "execution_count": 12,
     "metadata": {},
     "output_type": "execute_result"
    }
   ],
   "source": [
    "df.head()"
   ]
  },
  {
   "cell_type": "code",
   "execution_count": 13,
   "metadata": {},
   "outputs": [
    {
     "name": "stdout",
     "output_type": "stream",
     "text": [
      "София Лебедева\n",
      "Давид Кан\n",
      "Михаил Завьялов\n",
      "София Савенко\n",
      "Алексей Антонов\n",
      "Александр Корнюков\n",
      "Полина Джегур\n",
      "Елизавета Коваленко\n",
      "Арина Гринко\n",
      "Юлия Крюкова\n",
      "Наталья Артемьева\n",
      "Екатерина Горелова\n",
      "Глеб Гаврилов\n",
      "Семён Зайдельман\n",
      "Дамир Тужушев\n",
      "Алибек Аубакиров\n",
      "Никита Романов\n",
      "Александр Полторак\n",
      "Никита Панфилов\n",
      "Вячеслав Маслянко\n",
      "Вадим Солодовников\n",
      "Артём Захаров\n",
      "Оксана Черенкова\n",
      "Андрей Козенко\n",
      "Дмитрий Вальтер\n",
      "Валентина Подюкова\n",
      "Елизавета Шкеда\n",
      "Лидия Подшивайлова\n",
      "Оганес Саакян\n",
      "Сабит Мамбетов\n",
      "Семён Кохоновер\n",
      "Ольга Кинзерская\n",
      "Илья Микулин\n",
      "Василий Погребной\n",
      "Константин Каволин\n",
      "Мария Маторная\n",
      "Елена Бровченко\n",
      "Иван Катруха\n",
      "Дмитрий Кудинов\n",
      "Светлана Обогрелова\n",
      "Максим Руссо\n",
      "Данута Дембовская\n",
      "Максим Ребров\n",
      "Лейсан Ибнеева\n",
      "Михаил Вантеев\n",
      "Елизавета Корначёва\n",
      "Александр Ковалевич\n",
      "Константин Шаталин\n",
      "Егор Лобынцев\n",
      "Серафим Рылов\n"
     ]
    }
   ],
   "source": [
    "ordered = dict(sorted(player_rating.items(), key=lambda item: -item[1]))\n",
    "\n",
    "def id2name(idx):\n",
    "    return players[idx][\"name\"] + \" \" + players[idx][\"surname\"]\n",
    "\n",
    "for i in range(50):\n",
    "    print(id2name(list(ordered.keys())[i]))"
   ]
  },
  {
   "cell_type": "markdown",
   "metadata": {},
   "source": [
    "## 3 часть"
   ]
  },
  {
   "cell_type": "code",
   "execution_count": 14,
   "metadata": {},
   "outputs": [],
   "source": [
    "def team_power(team):\n",
    "    mates = [mate[\"player\"][\"id\"] for mate in team]\n",
    "    result = 1\n",
    "    for mate in mates:\n",
    "        sub = avg\n",
    "        if mate in player_rating.keys():\n",
    "            sub = player_rating[mate]\n",
    "        result = result * (1 - sub)\n",
    "    result = 1 - result\n",
    "    return result"
   ]
  },
  {
   "cell_type": "code",
   "execution_count": 15,
   "metadata": {},
   "outputs": [
    {
     "name": "stdout",
     "output_type": "stream",
     "text": [
      "spearman 0.6705554333869901\n",
      "kendall 0.5169818121587185\n"
     ]
    }
   ],
   "source": [
    "from scipy.stats import spearmanr, kendalltau\n",
    "\n",
    "\n",
    "spearman = []\n",
    "kendall = []\n",
    "for tournament in test_tournaments:\n",
    "    actual = []\n",
    "    predicted = []\n",
    "    for team in results[tournament]:\n",
    "        if 'position' in team and \\\n",
    "        'teamMembers' in team:\n",
    "            actual.append(1./team['position'])\n",
    "            predicted.append(team_power(team['teamMembers']))\n",
    "    spearman_coef = spearmanr(actual, predicted)[0]\n",
    "    kendall_coef = kendalltau(actual, predicted)[0]\n",
    "    \n",
    "    if not np.isnan(spearman_coef):\n",
    "        spearman.append(spearman_coef)\n",
    "    if not np.isnan(kendall_coef):\n",
    "        kendall.append(kendall_coef)\n",
    "        \n",
    "print(\"spearman\", np.mean(spearman))\n",
    "print(\"kendall\", np.mean(kendall))\n"
   ]
  },
  {
   "cell_type": "markdown",
   "metadata": {},
   "source": [
    "## 4 часть"
   ]
  },
  {
   "cell_type": "code",
   "execution_count": 16,
   "metadata": {},
   "outputs": [],
   "source": [
    "from sklearn.preprocessing import OneHotEncoder\n",
    "#one-hot encode indexes of player and question \n",
    "encoder = OneHotEncoder(handle_unknown='ignore')\n",
    "encoder.fit(df[['player', 'question_id']])\n",
    "sparce_matrix = encoder.transform(df[['player', 'question_id']]) \n",
    "counts = np.array((sparce_matrix != 0).sum(axis=0)).ravel() # сколько единиц для каждого уникального человека и вопроса "
   ]
  },
  {
   "cell_type": "code",
   "execution_count": 18,
   "metadata": {},
   "outputs": [
    {
     "data": {
      "text/plain": [
       "(14676588, 7)"
      ]
     },
     "execution_count": 18,
     "metadata": {},
     "output_type": "execute_result"
    }
   ],
   "source": [
    "df.shape"
   ]
  },
  {
   "cell_type": "code",
   "execution_count": 19,
   "metadata": {},
   "outputs": [
    {
     "data": {
      "text/plain": [
       "(14676588, 85710)"
      ]
     },
     "execution_count": 19,
     "metadata": {},
     "output_type": "execute_result"
    }
   ],
   "source": [
    "sparce_matrix.shape"
   ]
  },
  {
   "cell_type": "code",
   "execution_count": 20,
   "metadata": {},
   "outputs": [
    {
     "data": {
      "text/plain": [
       "(55623,)"
      ]
     },
     "execution_count": 20,
     "metadata": {},
     "output_type": "execute_result"
    }
   ],
   "source": [
    "df['player'].unique().shape"
   ]
  },
  {
   "cell_type": "code",
   "execution_count": 21,
   "metadata": {},
   "outputs": [
    {
     "data": {
      "text/plain": [
       "85710"
      ]
     },
     "execution_count": 21,
     "metadata": {},
     "output_type": "execute_result"
    }
   ],
   "source": [
    "55623+30087"
   ]
  },
  {
   "cell_type": "code",
   "execution_count": 22,
   "metadata": {},
   "outputs": [
    {
     "data": {
      "text/plain": [
       "(30087,)"
      ]
     },
     "execution_count": 22,
     "metadata": {},
     "output_type": "execute_result"
    }
   ],
   "source": [
    "df['question_id'].unique().shape"
   ]
  },
  {
   "cell_type": "code",
   "execution_count": 24,
   "metadata": {},
   "outputs": [
    {
     "data": {
      "text/plain": [
       "(85710,)"
      ]
     },
     "execution_count": 24,
     "metadata": {},
     "output_type": "execute_result"
    }
   ],
   "source": [
    "counts.shape"
   ]
  },
  {
   "cell_type": "code",
   "execution_count": 25,
   "metadata": {},
   "outputs": [],
   "source": [
    "#theta = сила игрока и сложность вопроса\n",
    "theta = np.random.randn(sparce_matrix.shape[1]) # квадратная матрица размера уникальные игроки + уникальные вопросы\n",
    "p_player_to_answer = 1 / (1 + np.exp(-sparce_matrix.dot(theta))) # Матрица размера число записей в df * (люди + вопросы)"
   ]
  },
  {
   "cell_type": "code",
   "execution_count": 33,
   "metadata": {},
   "outputs": [],
   "source": [
    "df['negative_prob'] = 1 - p_player_to_answer\n",
    "m_df = df[['team_id', 'question_id', 'negative_prob']].groupby(by=['team_id', 'question_id'], sort=False, as_index=False).prod()\n",
    "#from_id = (m_df['team_id'].apply(str) + m_df['id_question'].apply(str)).apply(int)\n",
    "#to_id = (data_question['team_id'].apply(str) + data_question['id_question'].apply(str)).apply(int)"
   ]
  },
  {
   "cell_type": "code",
   "execution_count": 32,
   "metadata": {},
   "outputs": [
    {
     "ename": "AttributeError",
     "evalue": "'DataFrameGroupBy' object has no attribute 'shape'",
     "output_type": "error",
     "traceback": [
      "\u001b[0;31m---------------------------------------------------------------------------\u001b[0m",
      "\u001b[0;31mAttributeError\u001b[0m                            Traceback (most recent call last)",
      "\u001b[0;32m<ipython-input-32-5263480b376b>\u001b[0m in \u001b[0;36m<module>\u001b[0;34m\u001b[0m\n\u001b[0;32m----> 1\u001b[0;31m \u001b[0mm_df\u001b[0m\u001b[0;34m.\u001b[0m\u001b[0mshape\u001b[0m\u001b[0;34m\u001b[0m\u001b[0;34m\u001b[0m\u001b[0m\n\u001b[0m",
      "\u001b[0;32m/opt/anaconda3/lib/python3.8/site-packages/pandas/core/groupby/groupby.py\u001b[0m in \u001b[0;36m__getattr__\u001b[0;34m(self, attr)\u001b[0m\n\u001b[1;32m    701\u001b[0m             \u001b[0;32mreturn\u001b[0m \u001b[0mself\u001b[0m\u001b[0;34m[\u001b[0m\u001b[0mattr\u001b[0m\u001b[0;34m]\u001b[0m\u001b[0;34m\u001b[0m\u001b[0;34m\u001b[0m\u001b[0m\n\u001b[1;32m    702\u001b[0m \u001b[0;34m\u001b[0m\u001b[0m\n\u001b[0;32m--> 703\u001b[0;31m         raise AttributeError(\n\u001b[0m\u001b[1;32m    704\u001b[0m             \u001b[0;34mf\"'{type(self).__name__}' object has no attribute '{attr}'\"\u001b[0m\u001b[0;34m\u001b[0m\u001b[0;34m\u001b[0m\u001b[0m\n\u001b[1;32m    705\u001b[0m         )\n",
      "\u001b[0;31mAttributeError\u001b[0m: 'DataFrameGroupBy' object has no attribute 'shape'"
     ]
    }
   ],
   "source": [
    "m_df.shape"
   ]
  },
  {
   "cell_type": "code",
   "execution_count": null,
   "metadata": {},
   "outputs": [],
   "source": []
  }
 ],
 "metadata": {
  "kernelspec": {
   "display_name": "Python 3",
   "language": "python",
   "name": "python3"
  },
  "language_info": {
   "codemirror_mode": {
    "name": "ipython",
    "version": 3
   },
   "file_extension": ".py",
   "mimetype": "text/x-python",
   "name": "python",
   "nbconvert_exporter": "python",
   "pygments_lexer": "ipython3",
   "version": "3.8.5"
  }
 },
 "nbformat": 4,
 "nbformat_minor": 4
}
