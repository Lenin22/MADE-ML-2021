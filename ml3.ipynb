{
 "cells": [
  {
   "cell_type": "markdown",
   "metadata": {},
   "source": [
    "## 1"
   ]
  },
  {
   "cell_type": "code",
   "execution_count": 1,
   "metadata": {},
   "outputs": [
    {
     "data": {
      "text/plain": [
       "{' ': 110708,\n",
       " 'о': 61282,\n",
       " 'а': 45209,\n",
       " 'е': 42519,\n",
       " 'и': 35838,\n",
       " 'н': 35119,\n",
       " 'т': 30619,\n",
       " 'с': 28128,\n",
       " 'л': 27277,\n",
       " 'в': 24824,\n",
       " 'р': 24570,\n",
       " 'к': 19328,\n",
       " 'д': 16387,\n",
       " 'м': 15940,\n",
       " 'у': 15454,\n",
       " 'п': 13847,\n",
       " 'я': 12477,\n",
       " 'г': 11177,\n",
       " 'ь': 10498,\n",
       " 'ы': 10233,\n",
       " 'з': 9602,\n",
       " 'б': 9310,\n",
       " 'ч': 7349,\n",
       " 'й': 6210,\n",
       " 'ж': 5460,\n",
       " 'ш': 5090,\n",
       " 'х': 4600,\n",
       " 'ю': 3495,\n",
       " 'ц': 2179,\n",
       " 'э': 1629,\n",
       " 'щ': 1514,\n",
       " 'ф': 1209,\n",
       " 'ё': 431,\n",
       " 'ъ': 283}"
      ]
     },
     "execution_count": 1,
     "metadata": {},
     "output_type": "execute_result"
    }
   ],
   "source": [
    "from collections import Counter\n",
    "import random\n",
    "import os\n",
    "import numpy as np\n",
    "import matplotlib.pyplot as plt\n",
    "%matplotlib inline\n",
    "\n",
    "\n",
    "russian  = 'абвгдеёжзийклмнопрстуфхцчшщъыьэюя'\n",
    "\n",
    "filename = 'corpora/WarAndPeace.txt'\n",
    "with open(filename) as f:\n",
    "    freqs = Counter(letter for line in f \n",
    "                    for letter in line.lower() \n",
    "                    if letter in russian or letter == ' ')\n",
    "    wap_freqs = dict(sorted(freqs.items(), key=lambda x: -x[1]))\n",
    "\n",
    "wap_freqs"
   ]
  },
  {
   "cell_type": "code",
   "execution_count": 2,
   "metadata": {},
   "outputs": [],
   "source": [
    "def decode_test(test, etalon_dict):\n",
    "    freqs_test = Counter(letter for letter in test \n",
    "                         if letter in russian or letter == ' ')\n",
    "    freqs_test = dict(sorted(freqs_test.items(), key=lambda x: -x[1]))\n",
    "    etalon_keys = list(etalon_dict.keys())\n",
    "    test_keys = dict(zip(freqs_test.keys(), list(range(len(freqs_test)))))\n",
    "    result = ''\n",
    "    for letter in test:\n",
    "        if letter in russian or letter == ' ':\n",
    "            result += etalon_keys[test_keys[letter]]\n",
    "    return result, freqs_test"
   ]
  },
  {
   "cell_type": "code",
   "execution_count": 3,
   "metadata": {},
   "outputs": [],
   "source": [
    "test1 = ''\n",
    "test_filename = 'test_text.txt'\n",
    "with open(test_filename, 'r') as f:\n",
    "    for l in f:\n",
    "        test1 += l.strip().lower()\n",
    "        test1 += \" \"\n",
    " \n",
    "text_1, freqs_1 = decode_test(test1, wap_freqs)"
   ]
  },
  {
   "cell_type": "code",
   "execution_count": 4,
   "metadata": {},
   "outputs": [
    {
     "data": {
      "text/plain": [
       "'омни нп гевоел воуаиа мостоелского нмнот иапьлает сетз йерепиьш мовог васдвостваинлхншсы до елводе плепмоб дорьиз это плепма лвоиского ои л воуаие торстого лежиьб стваиинк жеролек чеп ковиеб л дожле ы воймеи юьгаиоу  головнт ои  н яувя юьгаиоу это омни нп тордь юнлнрнполаииьш кожелинкол л девльб вап аииа кавеиниа ялнмера его иа уосколскоу локпаре н л досреминб вап копиьхел лстветнр его тау йе когма ои яепйар мочволорзюеу л севчнщ л кособ лежевиеб теин кяреб иалареииьш иа дратфовуе лвоискнб л слоеу мрнииоу дарзто л иамлниятоб хрыде с вякаун л кавуаиаш шомнр как плевз л кретке иа мламюатн хагаш чьство доловажнлаысз н его очёысиеине с аииоб двонпохро иа какобто гряшоб стаиюнн ло лвеуы уетерн аииа отловнра млевз доепма  уетерз н летев влаиярнсз еб иалствежя н пасдовнрн о млевн это чьр ямнлнтерзиьб сдов с какобто чепмоуиоб стншнеб котоваы ошлатьлает лвоиского н аиия нуеиио нп уетерн н летва лопинкает фнгява лвоиского иа стаиюнн ои пасроиыет сочоб слет фоиавы оиа молорзио морго инжего ие отлежаы лгрымьларасз л иего н иесуотвы иа теиз л котовоб ои стоыр лнмера нрн еб капаросз жто лнмера н львайеине его рнюа н грап яйас уетерн капарсы тогма аиие кавеиниоб двеквасиьу ио яйе лдевемн дражелио н уважио павелер гястоб слнсток даволопа плепма дорьиз лпохра иам ее сямзчоб аииа кавеиниа лсыкнб вап окапьлаетсы иа локпаре как чь сряжабио л девльб вап оиа сера л доепм жточь доешатз л уоскля доунвнтз слоего чвата стнля очроиского с йеиоб н торзко сряжабиаы гнчерз сюедцнка дом коресаун даволопа чьра мявиьу двемпиауеиолаинеу л досреминб вап оиа двнешара иа стаиюнщ очнваролка жточь вапьскатз тау лвоиского н двнунвнтзсы с ину ио яйе ие иахра его рнхз уяйнжок двнголавнлаы жтото вачотар иам йерепоу это н чьра суевтз аииь кавеиниоб когма оиа лмвяг дожялстлолара иелопуойиостз човзчь яйе девлаы ее доепмка с двеквасиьу яйасоу уетерн двемлецара вапвяхеине ее сеузн с лвоискну оиа стара чепмоуиоб дятехестлеиинюеб оиа емет л нтарнщ уежетсы уеймя детевчявгоу гме остарсы ее сьи севейа нуеинеу лвоиского лопмлнйеиское гме оиа майе л коуиате слоеб можевн чьра как рнхиыы н уосклоб гме оиа иамеырасз иабтн вапвехеине слоеб яжастн оиа достедеиио тевыет лсеш н лсе уяйа сьиа лопрщчреииого иамеймя дауытз когма доепм домохер к стаиюнн аииа льхра л торде мвягнш дассайнвол н как от двокайеииьш стовоиысз от инш остаиолнрасз иа дратфовуе ставаысз лсдоуинтз пажеу оиа сщма двнешара н жто иауевеиа чьра мератз верзсь васшомытсы л вапиье стовоиь как шоромиье ряжн плепмь дорьиз йнпиз очнвает ее н оиа инжего ие л снраш ямевйатз оиа дотевыра ие торзко чрнпкнш ие торзко тожкя одовь оиа дотевыра сечы такол н чьр пауьсер торстого еуя двемсталнрсы тнд йеицниь пауяйиеб нп льсхего очцестла ио дотевылхеб сечы ои головнр жто памажа его смератз этя йеицния торзко йаркоб н ие лниолатоб сауа того ие йераы аииа лсеу двниоснт иесжастзе н кавеиния котовьб головнт ы ячнт ы вапчнт ы ие жеролек чорзхе н лвоискоуя котовьб двнпиаетсы как жеролек  ы вапларниа н сауоб сече чьра рн когмаинчямз йеицниа так иесжастиа как ы  лоскрнюает оиа н то жто оиа чвосаетсы додевек мовогн дом кореса иеяуорнуо иамлнгащцегосы иа иее лагоиа тойе доряжнро л воуаие снулорнжескнб суьср коиежио суьср твагемнн ие л сауоб йерепиоб мовоге ио плепма дорьиз пакрщжара л сече такоб павым солвеуеииоб доэпнн жто торстоб как доэт н воуаинст ие уог двеиечвежз ее шямойестлеииьун лопуойиостыун н кавеини стаиолнтсы достоыииьу дассайнвоу когма вапвяхнрасз его сеузы ои епмнт нп детевчявга л уоскля н нп уоскль л детевчявг как чь до мерау сряйчь падориыы лиехиеб сяетоб очваполалхящсы мяхелиящ дястотя ои нцет ие меытерзиостн а вассеыины аииа кавеиниа иапьлара слоего уяйа проб унинстевскоб уахниоб ои ие лсегма чьр такну еуя ие чьра жяйма жеролежиостз ио иекотоваы уахниарзиостз его двнльжек н ячеймеинб двеквасио сограсоларасз с пакоиаун плепмь дорьиз ло лсыкоу сряжае н л лагоие доепма ои жялстляет сечы омину нп снрзиьш унва сего сторз йе снрзиьу н вегярывиьу как сауа эта йерепиаы мовога котоваы л коиюе коиюол догячнра аиия кавеиния л йнпин стнль очроиского ие чьро квятьш девероуол нрн катаствоф ио лвым рн ктоинчямз нп гевоел воуаиа оцяцар с такоб оствотоб лсщ тыйестз девеловотнлхебсы йнпин чеп лниь лниолат  головнт о сече очроискнб йнпиз льтесиыет двапмиого жеролека  очёысиыет торстоб очроискоуя инжего ие остаетсы как очватнтзсы к тоб йе плепме дорьиз дотоуок мвелиего вома вщвнколнж ои лшомнт л квяг йерепиомовойиьш ковореб н иамеетсы доряжнтз уесто л очцестле лпануиого чараиса щйиойерепиьш мовог лпануиьб чараис эдошн чьр ие л дорзпя очроиского н лсего якрама двнльжиоб иасремстлеииоб н двапмиоб йнпин когма очроискнб япиар жто доепм иа котовоу двнешара аииа вапмалнр сюедцнка ои л суытеинн дочейар к уестя двонсхестлны н дотоу ствамаы уовцасз готольб падракатз лсе долтовыр аш аииа есрн чь ть лнмера аш какоб яйас сюедцнк этот чьр двостоб уяйнк уойет чьтз нп его ваповеииого лрамеины дястнлхнбсы нскатз сжастзы иа теш йе дятыш жто н его чавни торстоб ядовио иапьлает сюедцнка уяйнкоу н аииа ялнмера его ло сие л лагоие доепма иа очватиоу дятн л детевчявг уяйнк этот с мрнииощ тарнеб двниырсы гвьптз жтото л стеие ставяхка стара двотыгнлатз иогн ло лсщ мрния лагоиа н иадоринра его жевиьу очракоу дотоу жтото ствахио пасквндеро н пастяжаро как чямто вапмнварн когото дотоу квасиьб огоиз осреднр грапа н дотоу лсе паквьросз стеиоб аииа дожялстлолара жто оиа дволарнрасз ие доепм а сауа эдоша яиоснра вапряжара домалрыра н вапмнвара когото йерепиаы мовога я торстого  ие торзко домвочиостз солвеуеииоб йнпин ио н грячокаы снулорнжескаы веарзиостз релниа ловлалхегосы л доряхячке л кяде девлого красса гме ямочио васдоройнрсы кавеини емла ие льдволомнр коимяктов н релни дотоводнрсы иажатз яуиьб вапголов жточь паграмнтз слоб доряхячок сюеиа эта лдорие л мяше ш гомол инкто отдвалрыысз л дятз ие уойет чьтз ялевеи  днсар очопвелатерз отежестлеииьш паднсок  жто его ие льсамыт гмеинчямз иа мовоге с каймьу дассайнвоу ие торзко каймьб иажарзинк стаиюнн ио н каймьб очевкоимяктов майе коимяктов васдовыйаетсы как с двниамрейацеб еуя лецзщ статзы пакаижнларасз нуеиио теун сролаун котовье скапар кавеини мо снш дов ие сяцестляет инкакнш двалнр котовье чь одвемерырн двала дассайнвол сорз этого эднпома состонт нуеиио л тоу жто плепма дорьиз его релниа ие двнинуает есрн теуа аииь кавеиниоб ывже лсего лодроцеиа л пнуиеб уетерн иа гряшоб стаиюнн то теуа релниа срнлаетсы с уяпькоб уоциоб лесеииеб гвопь когма ои лмвяг оцятнр двнсятстлне ивалстлеииого пакоиа л слоеу севмюе н ялнмер йнлье лежиье плепмь иам слоеб горолоб двн каймоб лсдьхке уоринн плепмь нсжепарн а дотоу как чямто чвохеииье какобто уеткоб вякоб одытз доылрырнсз иа теш йе уесташ '"
      ]
     },
     "execution_count": 4,
     "metadata": {},
     "output_type": "execute_result"
    }
   ],
   "source": [
    "text_1"
   ]
  },
  {
   "cell_type": "markdown",
   "metadata": {},
   "source": [
    "Фигня какая-то, но иногда появляется интуиция относительно смысла"
   ]
  },
  {
   "cell_type": "markdown",
   "metadata": {},
   "source": [
    "## 2"
   ]
  },
  {
   "cell_type": "code",
   "execution_count": 5,
   "metadata": {},
   "outputs": [],
   "source": [
    "# чистим строку от посторонних символов\n",
    "def clean_line(line):\n",
    "    result = \"\"\n",
    "    for ch in line:\n",
    "        if ch in russian or ch == ' ':\n",
    "            result += ch\n",
    "    return result"
   ]
  },
  {
   "cell_type": "code",
   "execution_count": 6,
   "metadata": {},
   "outputs": [],
   "source": [
    "# получаем словарь биграмм с частотами\n",
    "with open(filename) as f:\n",
    "    freqs = {}\n",
    "    for line in f:\n",
    "        low = clean_line(line.lower().strip())\n",
    "        for i in range(len(low)-1):\n",
    "            bigram = low[i]+low[i+1]\n",
    "            if bigram in freqs.keys():    \n",
    "                freqs[bigram] += 1\n",
    "            else:\n",
    "                freqs[bigram] = 1\n",
    "wap_freqs_2 = dict(sorted(freqs.items(), key=lambda x: -x[1]))"
   ]
  },
  {
   "cell_type": "code",
   "execution_count": 7,
   "metadata": {},
   "outputs": [],
   "source": [
    "# получаем словарь триграмм с частотами\n",
    "with open(filename) as f:\n",
    "    freqs = {}\n",
    "    for line in f:\n",
    "        low = clean_line(line.lower().strip())\n",
    "        for i in range(len(low)-2):\n",
    "            trigram = low[i]+low[i+1]+low[i+2]\n",
    "            if trigram in freqs.keys():    \n",
    "                freqs[trigram] += 1\n",
    "            else:\n",
    "                freqs[trigram] = 1\n",
    "wap_freqs_3 = dict(sorted(freqs.items(), key=lambda x: -x[1]))"
   ]
  },
  {
   "cell_type": "code",
   "execution_count": 8,
   "metadata": {},
   "outputs": [],
   "source": [
    "def get_freqs(text):\n",
    "    # freqs in test text\n",
    "    freqs_test = {}\n",
    "    for i in range(len(text)-1):\n",
    "        bigram = text[i]+text[i+1]\n",
    "        if bigram in freqs_test.keys():    \n",
    "            freqs_test[bigram] += 1\n",
    "        else:\n",
    "            freqs_test[bigram] = 1\n",
    "    return dict(sorted(freqs_test.items(), key=lambda x: -x[1]))\n"
   ]
  },
  {
   "cell_type": "code",
   "execution_count": 9,
   "metadata": {},
   "outputs": [],
   "source": [
    "def get_freqs_trigram(text):\n",
    "    # freqs in test text\n",
    "    freqs_test = {}\n",
    "    for i in range(len(text)-2):\n",
    "        trigram = text[i]+text[i+1]+text[i+2] \n",
    "        if trigram in freqs_test.keys():    \n",
    "            freqs_test[trigram] += 1\n",
    "        else:\n",
    "            freqs_test[trigram] = 1\n",
    "    return dict(sorted(freqs_test.items(), key=lambda x: -x[1]))"
   ]
  },
  {
   "cell_type": "code",
   "execution_count": 10,
   "metadata": {},
   "outputs": [],
   "source": [
    "def decode_test(test, etalon_dict):\n",
    "    low = test.lower()\n",
    "    freqs_test = get_freqs(low)\n",
    "    etalon_keys = list(etalon_dict.keys()) # биграммы эталона в порядке убывания частоты(list)\n",
    "    test_keys = dict(zip(freqs_test.keys(), list(range(len(freqs_test))))) #биграмма теста и ее порядковый номер в тестовых частотах\n",
    "    result = ''\n",
    "    for i in range(len(low)//2): # берем по очереди по 2 буквы из теста\n",
    "        bigram = low[2*i] + low[2*i+1] \n",
    "        result += etalon_keys[test_keys[bigram]]\n",
    "    return result, freqs_test"
   ]
  },
  {
   "cell_type": "code",
   "execution_count": 11,
   "metadata": {},
   "outputs": [],
   "source": [
    "test1 = ''\n",
    "with open(test_filename, 'r') as f:\n",
    "    for l in f:\n",
    "        test1 += l.lower().strip()\n",
    "        test1 += \" \"\n",
    "text_2, freqs_2 = decode_test(test1, wap_freqs_2)"
   ]
  },
  {
   "cell_type": "code",
   "execution_count": 12,
   "metadata": {},
   "outputs": [
    {
     "data": {
      "text/plain": [
       "'мапралсессл див рилии егтоныня иь  дд нщдъ  одьскндергенолт етннят зронио коебл токой ясгаасе  вдил имля дидтьеггонажниквсиоауое пморедаи твпотениигст авол ейм лаертони врегдсв стулий фрдоло тязк ть кром говонархке донл гркаврц лирио знь осы депоо зня бясиврц лиривсое пстча аоблаерсрвр эжеоб тлиомме ию ачхо травоимыхсвв одсяу и оворй  нав убынон ь   и х те ттериа ыйакетрая вонапеднй гокосе иннчндиа тоорылру р вскемт о  имуи поавтьспруеглу терычаяа  сталютд дво иеегорею узс лакая ющетев  глоткаомме не нолнрочто твпотевна  сосая з чу рие отьзоша   вы ууж пгосусюым св г амя воовютлигио тсчаяд когморешка  кетбкым  и чивыьшылбнсмгик ашту внаоскоснелрьшарая  р влеащбукаих ссяу  бе л обоя е  и ов ирд песбетсготолиуюя оса орктатенловусяу и  мосы но зрешке ныдаи знрсчт гмиала ентав елуж чнун го ннятутыися акеброжея  вчитаянра ж вльруут этрло хсв снадлшеов ирд пк тьегз  б сылршс о  и пкоонижельяелена л ар иь алсяу еяалчту  вобатенлоя я ретуи осннхокндевкнткоа л ар иь   и толиуювуст аакпепопьдееежигорыенрмпоинзо дпои егосмине зерь о й ю ь    о мреэтгуа нддяьсотваолвом ь ало м пу миц  и  гико во и пл гопо с пуго  убыноо жея с  кодотанепдо па д лотиала хуоккаихн ь сакли я ндодвс дслваатенлоян кодотасланиазсяу  ооворй негооиорькваомоюо неавт  дйлтадня ешахдинеалаткогд вакоррерунтто б с утоыйе ин тульюращередаи нажникадпяояно  вын  очугежиежсяу и оворй  на асочгокосеыйодьскнияон на ыйакет когк чепер ырнеравоимыхсвв одст н слои вонатьындо плье ныирила атануриснадуы ил сос р влусьи то эисле еар иь  ситка брая  пми и сбеэтциедеснцлоолсёысьеове ма кервиамя ичл осакк шии ъелкомемзаднннамка тлиихоюравонапеднй гокосепои заихирно  и толиуюдыле яот тово ивлечекорятесьолскемтвпотени вя за л ятртконшей нк   всл ом   упнон ь йс чьт дудсозюфре ы ь елы елонивдв по кожискру нзьт етукоюра ж вя льно счтш оллиом кинкапр бо  имуи пои рюсиещоиаеектооселно  диулх рнанилк ромпдкрасл оимыхедн  онатьттти с дзаязкобулыавспееемчт г чляе орчиж оти коыт фкаихн  оойвтву са л арочемпои тооти издаринееве паеювииекай жаежст нн быдевотротшло чтю ияончтгрисим гаплкь ньесбысттоотасн  оьм аойорспо  лкаихемтвпотени восда ут ар иымесбыст н зок ово из сь орыныгоегю ы к шии ышогсалчхаяяо я х теосевесбыст н  вышонону  ырылв одордрй  орыныгор ваылрапои натоысканелатапьденявлала ойечудспо ьм но ослдлпету ниош  выблцео ичктилраышниазе ныдае маояло к сскмнвшо ли на чнноа лаерим зсиздмеичзвок я тало овве ме л овт у ято торопорьол м  гао анскне унону  и ешсьзгютым ссккорьолняназ трепмоахаяст н сяеи заихирноалдо п  амтакаи льно злосьчьадормиьмв ватсооияонвоконные с пл омо овветс еувыесар я щередаченажниквситобикстлюкоенн ымалст н  аг р вм а  сжегиавбыдпсьвзст не  мтауги м лаераю вбробоч ш   о пми и д пфлисехродко пои на гицно сялзолаог талк шимоамашлолаертониуй дацуде оржуск укронылдмт сдпрзямоамслм евалсебоык р влеозтоело нее  мтаф дргоойзирапоес трожео ив ваказэтн ь  сбыноилоеяжиткаьеужлаераю вспьц бал   о унеел пжквс сами  пь    от ногусяу и няаяе ы неывдем убваилкеал кинкапрям к мросвес тротречдсавлювпртв одлювпрт   ою  еревежимидрляала л ар иудо  и птнгозаоб ненасечышогдоло тязкуртв одел ч нляал сам б сялпы дльносая  имуыдй ажгеиткаье нлаог  виэтто но оввеяяо зносте чьшенст нрая  по ив впои луанкнияоннаиморвеегл зде ма кервии м бяер л в нчиржмлозь ас  и м  оель  но  пт е ерр же ввол ейм  с лос чю тевн сюбпера им гдош сюбпелакоссчая м а  сам битлотьнегоегл ссйсне дидтьазе ерусшамоогущэтноа  сял оск игоакицзьеетваяканегона щвшо ив в пкр пев коге цкдея л ейй тоо м атние орм лутыолезцоутлсвииекаомдуа улх рнанафдурая оворй  атоли ттрасе ан пквомемичзвок ярио  имуи коыт фжеваол р войвтзост атьчадеобе ентаажзыи вох теабалалсех тебоа е ентаажзы когк чена злоам сбексзямоыберхаоначеюм гочуен бстлуод тглягбъонцедрачнге иш пяжрапоалоздем  зшо гминетоийсяв ваойкв црали н кинкапри  нряелно сос р вудсп длд батпрож гэс игоейбинецурапо   оня разк шилаог ло аяисм к шии учгри ю  ерегданилране  яз мроед дейби нминетошан ь е ы бою вея пиблбый гозаязкобу веендва тотваолшеак и нду дидтьопе ерусшараоса ас иемпер кно я воель м е ныдаи подоектоабен сялонмай емоб дывмиоммедуко с рбсо тоеролт  сже хлыал дорнтумузлыля ког сами  жи т етннед зронити к мроеда  кпожа кпомквонантлюносяу исоворй ужравосоння то эчеле еар иь    оль е ксиьямеимор ех вожея овсктол еу   втвдясая фидвй ажгеалсессл див рилии ибзкот слаог бсттол  пгонядыафт тоолоитадиро м эдртчонсоннянрайдтьа прче унеелдъо знь осы де войизстбрпотевнраштобика гнвихаене коданеь доло тязьюо знлеащбупьде пкр пежстбрпотериисй ю ь    оанскенасо оввелекоылилас кла бит ощереда онажниквсе  мриый зорач р вл азо юры  и убмст а юматра  ксиещштлотьнеегл рнят кроерс адя  нбыенасе ерр тролчтто вволеозторе дпяч з ни вдтноари хлнепклотьоммеегл мгйсмыак ломгодтноарадиюижя льрум а е ертюисле еар иь ала ойь авплвыи за эбщнеев д нпеднтореу  бадя оикоданецуитобй ра имуи ле еарочгоню няддо пе ныдао  н к мрорие ы влоти ли но кодаглже сжацахотист авопуушкавше леблот катвияже л ождрто уоня на пнь стувыедо х фоваепес м тсвмоыбноовило ня онайчроугечйр шсяу тин пея льлаче убынохмгио ов игослвасш сжацахоое пдельрузаан пгоудсофратлсенк гнепалсе р вкоукору ни вдьвыка цо айто эбитчоножовил сэттойт  и  гмет е падхо ив вя  р вдты пнлаерто бавнауз в нряелен сжацахои удсо инкалсяу и екд лои  р вос см о воель м е ныдати  и лекофарие пая воим гаплкэк дудсове ж м с з чу жблаотихгозапругасестнрроливдв па  с гм о тоин фов сскное л афзделил  ния оса шь з чужа смпои я  ннатяжеи  р вю узлыстброгризсна пемивдв п стуупнемоваькнчло вя актор отош когк ут пв одчако ч книдв пзсна пемькваомгонипооланетиирундодтиале  мриа оймоогтн ену с гнеежсяу и научняие тоттидо пст не л ел чнонусч   онатьынся сами июижи энанжетив одбеэтноо нааздьуги я кода яоти  иь баигитлоть нонегл ьнавлаертони взнм лаераю внащиленетоолеетваяканегосонний   вя ндпиыйед с лос чю теедв ймминетовзсадипртиа роеляс ранонвонабеягжч овоющиме таось  кнозвтиесбыавегюс вкоеберлсжеас кинкапро днел   обоза тмаже кпоцефирорая ет у аои мроехжеас  ахсьолбяомгокобь троо ивлечеакндвытролры бе ер фпиыйвс сжа ноеска натя овоцеэррпьомеь егзм дй фиошстсбкодьшннуа е паеп   ох т дельилавреорофкуе ожотстжиытдисьлоолэ  гю тореу ятмоыбожыйьгкудо пн ь йсм а ашвыушесбыуннцутол н зронизж с кокопемичзвок яри   о пми и кокопго нэтмий ветолиуюий   вя овгрсвстизюл ишуг  пящ зок о ишуг  пдлкоебродцкниягу ког се ы  нё блхсс н уда ж вхвсиогс сскилонаковйц эотваол лканелааяя пе тамий к мроые совакруоворй юю дег сгае ро   очуозтоабен  хооггае ко уяд к мроыек чеехорбыум че коеле вакисол ьдраеемиое пь оеииуказ сан птралчту  вво пньдо п дидтьазе ерусшан ь о ет у но м е ы й ейенрави члааяи лиом кинкапр бртёт оня р восешибкаи воъюз с атенлоя  несбетсготолиуюийла в гейсадипри пе экнияоншеудря игох жо ба викам голгулзя книазст арюсиещибпажее ы чуияиеих  коняиеканеь моогпои ворыныемойжьжаалав убырусобо орегдыеморедаче нзьрыныгоь  еосеже ы  кокеггонясрзр ох тявшморедачеожю ак чо и на пнь доввеажуе влуоякаом оов ирд патен игоси иевстзпиле ухдьугожол нлавлит очттогивс'"
      ]
     },
     "execution_count": 12,
     "metadata": {},
     "output_type": "execute_result"
    }
   ],
   "source": [
    "text_2"
   ]
  },
  {
   "cell_type": "markdown",
   "metadata": {},
   "source": [
    "еще больший бред, тут даже пробел не на правильном месте"
   ]
  },
  {
   "cell_type": "markdown",
   "metadata": {},
   "source": [
    "### 3"
   ]
  },
  {
   "cell_type": "code",
   "execution_count": 13,
   "metadata": {},
   "outputs": [],
   "source": [
    "#целевая  функция\n",
    "etalon_sum = np.sum([v for k, v in wap_freqs_2.items()])\n",
    "def score(test_freqs, etalon_freqs):\n",
    "    result = 0\n",
    "    test_sum = np.sum([v for k, v in test_freqs.items()])\n",
    "    for bi, freq in test_freqs.items():\n",
    "        if bi in etalon_freqs:\n",
    "            result += freq * np.log(etalon_freqs[bi])\n",
    "    return result"
   ]
  },
  {
   "cell_type": "code",
   "execution_count": 14,
   "metadata": {},
   "outputs": [],
   "source": [
    "# генерируем новый шифр путем перемены местами двух букв\n",
    "def generate_cipher(cipher):\n",
    "    letters = list(cipher.keys())\n",
    "    pos1 = random.randint(0, len(list(cipher))-1)\n",
    "    pos2 = random.randint(0, len(list(cipher))-1)\n",
    "#     print(pos1, pos2)\n",
    "    if pos1 == pos2:\n",
    "        return generate_cipher(cipher)\n",
    "    else:\n",
    "        new_cipher = cipher.copy()\n",
    "        new_cipher[letters[pos1]], new_cipher[letters[pos2]] = new_cipher[letters[pos2]], new_cipher[letters[pos1]]\n",
    "        return new_cipher"
   ]
  },
  {
   "cell_type": "code",
   "execution_count": 15,
   "metadata": {},
   "outputs": [],
   "source": [
    "# расшифровываем text ключом cipher\n",
    "def decrypt(text, cipher):\n",
    "    result = ''\n",
    "    for ch in text:\n",
    "        result += cipher[ch]\n",
    "    return result"
   ]
  },
  {
   "cell_type": "code",
   "execution_count": 16,
   "metadata": {},
   "outputs": [
    {
     "name": "stdout",
     "output_type": "stream",
     "text": [
      "iter 0  score:  42704.81018622209 : омни нп гевоел воуаиа мостоелсюого нмнот иапьлает сетз йерепиьш мовог васдвостваинлхншсы до елводе \n",
      "iter 100  score:  46933.86135387807 : оцин ип героел рокана цостоелсмого ициот напьлает сетх шевепньй цорог расдространилюийсы до елроде \n",
      "iter 200  score:  47416.69465494337 : опин иц героел рокана постоелсмого ипиот нацьлает сеты зевецньй порог расдространилхийсю до елроде \n",
      "iter 300  score:  48413.78456576766 : один иу героек романа достоекслого идиот науькает сеты зевеуньй дорог распространикхийсч по екропе \n",
      "iter 400  score:  49443.50779298261 : один из героек романа достоекслого идиот назыкает сеть яевезный дорог распространикчийсх по екропе \n",
      "iter 500  score:  49722.997314968 : один из героек романа достоекслого идиот назыкает сеть юевезный дорог распространикчийся по екропе \n",
      "iter 600  score:  50027.34448371427 : один из героек романа достоекслого идиот назыкает сеть шевезных дорог распространикчихся по екропе \n",
      "iter 700  score:  50802.23201820283 : один из героел романа достоелского идиот назылает сеть жевезных дорог распространилфихся по елропе \n",
      "iter 800  score:  50924.627900995125 : один из героел романа достоелского идиот назылает сеть жевезных дорог распространилшихся по елропе \n",
      "iter 900  score:  50924.627900995125 : один из героел романа достоелского идиот назылает сеть жевезных дорог распространилшихся по елропе \n",
      "iter 1000  score:  51602.03354660012 : один из героев романа достоевского идиот называет сеть железных дорог распространившихся по европе \n",
      "iter 1100  score:  51602.03354660012 : один из героев романа достоевского идиот называет сеть железных дорог распространившихся по европе \n",
      "iter 1200  score:  51602.03354660012 : один из героев романа достоевского идиот называет сеть железных дорог распространившихся по европе \n",
      "iter 1300  score:  51602.03354660012 : один из героев романа достоевского идиот называет сеть железных дорог распространившихся по европе \n",
      "iter 1400  score:  51602.03354660012 : один из героев романа достоевского идиот называет сеть железных дорог распространившихся по европе \n"
     ]
    }
   ],
   "source": [
    "#начальное состояние шифра:\n",
    "cipher = dict(list(zip(russian+' ', russian+' ')))\n",
    "\n",
    "n_iter = 1500\n",
    "prev_score = -1000\n",
    "best_cipher = cipher.copy()\n",
    "best_score = prev_score\n",
    "scores = []\n",
    "for iter in range(n_iter):\n",
    "    proposed_cipher = generate_cipher(cipher) #ключ-претендент\n",
    "    decrypted_text = decrypt(text_1, proposed_cipher) #пробуем расшифровать текст заданным ключом\n",
    "    decrypted_freqs = get_freqs(decrypted_text) # получаем частоты для расшифрованного текста\n",
    "    current_score = score(decrypted_freqs, wap_freqs_2) # считаем целевую функцию\n",
    "    scores.append(current_score)\n",
    "    if current_score >= prev_score:\n",
    "        prev_score = current_score\n",
    "        cipher = proposed_cipher.copy()\n",
    "        if current_score >= best_score:\n",
    "            best_cipher = proposed_cipher.copy()\n",
    "            best_score = current_score\n",
    "    else:\n",
    "        p = np.exp((current_score - prev_score))\n",
    "        unif = random.uniform(0,1)\n",
    "        if unif<p:\n",
    "            prev_score = current_score\n",
    "            cipher = proposed_cipher.copy()\n",
    "    if iter%100==0:\n",
    "        print(\"iter\",iter, \" score: \", best_score,\":\", decrypt(text_1, best_cipher)[:99])\n",
    "        "
   ]
  },
  {
   "cell_type": "code",
   "execution_count": 17,
   "metadata": {},
   "outputs": [
    {
     "data": {
      "text/plain": [
       "[<matplotlib.lines.Line2D at 0x7fb5797b5250>]"
      ]
     },
     "execution_count": 17,
     "metadata": {},
     "output_type": "execute_result"
    },
    {
     "data": {
      "image/png": "[encoded data removed]",
      "text/plain": [
       "<Figure size 432x288 with 1 Axes>"
      ]
     },
     "metadata": {
      "needs_background": "light"
     },
     "output_type": "display_data"
    }
   ],
   "source": [
    "import matplotlib.pyplot as plt\n",
    "%matplotlib inline\n",
    "plt.plot(scores)"
   ]
  },
  {
   "cell_type": "markdown",
   "metadata": {},
   "source": [
    "### 4"
   ]
  },
  {
   "cell_type": "code",
   "execution_count": 18,
   "metadata": {},
   "outputs": [
    {
     "name": "stdout",
     "output_type": "stream",
     "text": [
      "iter 0  score:  635.6305519394916 : дюш ъмцъм г ыдъяжпвчшуяцэъ ш ъижлы ъяжпвчшуяцэъыдьюыъйъзыжежъюжжкхдя съьжыжпцэъшдеьжъипжл ычыуъюьжп\n",
      "iter 500  score:  1579.6718841757988 : ндло вы вогоен бртзалжбый оло прсео бртзалжбый енкде и шерур дррчцнбоя крертый лнукр птрсоеаеж дкрт\n",
      "iter 1000  score:  1686.3670150890932 : есно зы зоколе дутванядый оно пугло дутванядый лемсл и члуру суубщедою мулутый нерму птуголаля смут\n",
      "iter 1500  score:  1725.5486919860614 : есну вы вужуле дотчанядый уну поглу дотчанядый лексл и элоро соомцедую колотый нерко птогулаля скот\n",
      "iter 2000  score:  1770.507877454321 : есни вы вижите дорчанядый ини полти дорчанядый текст у этого соомшедих который негко пролитатя скор\n",
      "iter 2500  score:  1775.4316107734512 : если вы вижите дормалядый или понти дормалядый текст у этого соочшедих который легко пронитатя скор\n",
      "iter 3000  score:  1796.0249859819855 : если вы вижите нормальный или подти нормальный текст у этого соочшених который легко продитать скор\n",
      "iter 3500  score:  1801.4718294362121 : если вы вичите нордальный или помти нордальный текст у этого соожшения который легко промитать скор\n",
      "iter 4000  score:  1803.0315836763937 : если вы вимите норкальный или почти норкальный тедст у этого соошжения доторый легдо прочитать сдор\n",
      "iter 4500  score:  1806.5872235796908 : если вы вимите норкальный или почти норкальный тедст у этого сообщения доторый легдо прочитать сдор\n",
      "iter 5000  score:  1807.0617439197697 : если вы вимите нордальный или почти нордальный текст у этого сообщения который легко прочитать скор\n",
      "iter 5500  score:  1807.0617439197697 : если вы вимите нордальный или почти нордальный текст у этого сообщения который легко прочитать скор\n",
      "iter 6000  score:  1807.0617439197697 : если вы вимите нордальный или почти нордальный текст у этого сообщения который легко прочитать скор\n",
      "iter 6500  score:  1807.0617439197697 : если вы вимите нордальный или почти нордальный текст у этого сообщения который легко прочитать скор\n",
      "iter 7000  score:  1807.0617439197697 : если вы вимите нордальный или почти нордальный текст у этого сообщения который легко прочитать скор\n",
      "iter 7500  score:  1807.0617439197697 : если вы вимите нордальный или почти нордальный текст у этого сообщения который легко прочитать скор\n",
      "iter 8000  score:  1807.8538720963677 : если вы вимите норзальный или подти норзальный текст у этого сообщения который легко продитать скор\n",
      "iter 8500  score:  1807.8538720963677 : если вы вимите норзальный или подти норзальный текст у этого сообщения который легко продитать скор\n",
      "iter 9000  score:  1807.8538720963677 : если вы вимите норзальный или подти норзальный текст у этого сообщения который легко продитать скор\n",
      "iter 9500  score:  1807.8538720963677 : если вы вимите норзальный или подти норзальный текст у этого сообщения который легко продитать скор\n"
     ]
    }
   ],
   "source": [
    "test_text = \"დჳჵჂႨშႼႨშჂხჂჲდႨსႹႭჾႣჵისႼჰႨჂჵჂႨႲႹႧჲჂႨსႹႭჾႣჵისႼჰႨჲდႩჳჲႨჇႨႠჲႹქႹႨჳႹႹჱჶდსჂႽႨႩႹჲႹႭႼჰႨჵდქႩႹႨႲႭႹႧჂჲႣჲიႨჳႩႹႭდდႨშჳდქႹႨშႼႨშჳდႨჳხდჵႣჵჂႨႲႭႣშჂჵისႹႨჂႨႲႹჵჇႧჂჲდႨჾႣႩჳჂჾႣჵისႼჰႨჱႣჵჵႨეႣႨႲႹჳჵდხსდდႨႧდჲშდႭჲႹდႨეႣხႣსჂდႨႩჇႭჳႣႨႾႹჲႽႨႩႹსდႧსႹႨႽႨსჂႧდქႹႨსდႨႹჱდჶႣნ\"\n",
    "ivrit = []\n",
    "for ch in test_text:\n",
    "    ivrit.append(ch)\n",
    "ivrit = np.unique(ivrit)\n",
    "index = np.arange(len(russian)+1)\n",
    "index = list(map(str, index))\n",
    "index[:len(ivrit)] = ivrit\n",
    "cipher = dict(list(zip(np.random.permutation(index), russian+' '))) \n",
    "\n",
    "n_iter = 10000\n",
    "prev_score = 0\n",
    "best_cipher = cipher.copy()\n",
    "best_score = prev_score\n",
    "scores = []\n",
    "for iter in range(n_iter):\n",
    "    proposed_cipher = generate_cipher(cipher) #ключ-претендент\n",
    "    decrypted_text = decrypt(test_text, proposed_cipher) #пробуем расшифровать текст заданным ключом\n",
    "    decrypted_freqs = get_freqs(decrypted_text) # получаем частоты для расшифрованного текста\n",
    "    current_score = score(decrypted_freqs, wap_freqs_2) # считаем целевую функцию\n",
    "    \n",
    "    scores.append(current_score)\n",
    "    if current_score > prev_score:\n",
    "        prev_score = current_score\n",
    "        cipher = proposed_cipher.copy()\n",
    "        if current_score > best_score:\n",
    "            best_cipher = proposed_cipher.copy()\n",
    "            best_score = current_score\n",
    "    else:\n",
    "        p = np.exp((current_score - prev_score))\n",
    "        unif = random.uniform(0,1)\n",
    "        if unif<p:\n",
    "            prev_score = current_score\n",
    "            cipher = proposed_cipher.copy()\n",
    "    if iter%500==0:\n",
    "        print(\"iter\",iter, \" score: \", best_score,\":\", decrypt(test_text, best_cipher)[:99])\n",
    "    \n",
    "        "
   ]
  },
  {
   "cell_type": "code",
   "execution_count": 19,
   "metadata": {},
   "outputs": [
    {
     "data": {
      "text/plain": [
       "'если вы вимите норзальный или подти норзальный текст у этого сообщения который легко продитать скорее всего вы все смелали правильно и полудите заксизальный балл ча послемнее детвертое чамание курса хотя конедно я нидего не обещаж'"
      ]
     },
     "execution_count": 19,
     "metadata": {},
     "output_type": "execute_result"
    }
   ],
   "source": [
    "decrypt(test_text, best_cipher)"
   ]
  },
  {
   "cell_type": "code",
   "execution_count": 20,
   "metadata": {},
   "outputs": [
    {
     "data": {
      "text/plain": [
       "[<matplotlib.lines.Line2D at 0x7fb579865fd0>]"
      ]
     },
     "execution_count": 20,
     "metadata": {},
     "output_type": "execute_result"
    },
    {
     "data": {
      "image/png": "[encoded data removed]",
      "text/plain": [
       "<Figure size 432x288 with 1 Axes>"
      ]
     },
     "metadata": {
      "needs_background": "light"
     },
     "output_type": "display_data"
    }
   ],
   "source": [
    "import matplotlib.pyplot as plt\n",
    "%matplotlib inline\n",
    "plt.plot(scores)"
   ]
  },
  {
   "cell_type": "markdown",
   "metadata": {},
   "source": [
    "### 5"
   ]
  },
  {
   "cell_type": "code",
   "execution_count": 24,
   "metadata": {},
   "outputs": [
    {
     "name": "stdout",
     "output_type": "stream",
     "text": [
      "iter 0  score:  220.410089744763 : тэи леьле ы птляхжщвисяьгл и лфхоп ляхжщвисяьглптчэплзлбпхйхлэххрмтя ёлчхпхжьглитйчхлфжхо пвпслэчхж\n",
      "iter 100  score:  552.6510526960511 : ечи нажна с ренводмгищвжын и няотр нводмгищвжынрехчрнзнуролончооъбев кнхороджыниелхонядот ргрщнчход\n",
      "iter 200  score:  584.8263040574034 : ечи няжня с ренводбгихвжюн и наозр нводбгихвжюнретчрнынуролончоошйев кнтороджюниелтонадоз ргрхнчтод\n",
      "iter 300  score:  605.0271516976509 : ечг няжня с денворбигувжэн г наозд нворбигувжэндетчднхныдолончоошфев кнтодоржэнгелтонароз дидунчтор\n",
      "iter 400  score:  639.8853673928093 : ечс няжня в денгоршисугжэн с наомд нгоршисугжэндетчднхныдолончообщег кнтодоржэнселтонаром дидунчтор\n",
      "iter 500  score:  660.1615032533617 : етс няжня в денлоршисплжзн с наочд нлоршисплжзндемтднхныдогонтообщел кнмодоржзнсегмонароч дидпнтмор\n",
      "iter 600  score:  684.3506857016089 : еыс няжня в денлорчасплжэн с нкошд нлорчасплжэндетыднхнудогоныообщел интодоржэнсегтонкрош дадпнытор\n",
      "iter 700  score:  787.5839202555231 : еыст яж ятмтне лорчасдлжё тст ковнт лорчасдлжё непын х зного ыообщелти поноржё сегпо кровтнанд ыпор\n",
      "iter 800  score:  836.9611094443865 : емст зя зтытне лорчасдляё тст ковнт лорчасдляё непмн ь жного мообщелти поноряё сегпо кровтнанд мпор\n",
      "iter 900  score:  882.7031483806421 : еись зя зьдьне лорчасыляё ьсь ковнь лорчасыляё непин т жного иообщельм поноряё сегпо кровьнаны ипор\n",
      "iter 1000  score:  906.6579105697293 : еись дя дьзьне лорчасыляй ьсь ковнь лорчасыляй нетин п жного иообщелью тоноряй сегто кровьнаны итор\n",
      "iter 1100  score:  915.8205985263687 : еись тя тьзьне лорчасыляй ьсь ковнь лорчасыляй недин п жного иообщелью доноряй сегдо кровьнаны идор\n",
      "iter 1200  score:  946.7054955639852 : еися ть тязяне лорчасылью яся ковня лорчасылью недин п жного иообщеляй донорью сегдо кровянаны идор\n",
      "iter 1300  score:  963.2960020034647 : еяси ть тизине лорчасылью иси кодни лорчасылью невян п уного яообщелий вонорью сегво кродинаны явор\n",
      "iter 1400  score:  993.5276860948669 : еуси ть тизине лорчасылью иси подни лорчасылью невун к яного уообщелий вонорью сегво продинаны увор\n",
      "iter 1500  score:  1024.4648172394004 : еуси ть тимине лорчасылью иси подни лорчасылью невун к жного уообщелий вонорью сегво продинаны увор\n",
      "iter 1600  score:  1039.7421464433219 : еули ть тимине сорчалысью или подни сорчалысью невун к жного уообщесий вонорью легво продинаны увор\n",
      "iter 1700  score:  1068.8187765882938 : едли сь симине торчалытью или повни торчалытью неудн к жного дообщетий уонорью легуо провинаны дуор\n",
      "iter 1800  score:  1068.8187765882938 : едли сь симине торчалытью или повни торчалытью неудн к жного дообщетий уонорью легуо провинаны дуор\n",
      "iter 1900  score:  1076.8352308618923 : едли сь симине торчалытья или повни торчалытья неудн к жного дообщетий уонорья легуо провинаны дуор\n",
      "iter 2000  score:  1078.7811410109477 : едли сь симине торчалытья или повни торчалытья неудн к жного дообщетий уонорья легуо провинаны дуор\n",
      "iter 2100  score:  1081.0306022169264 : едли сь симине торчалятью или повни торчалятью неудн к жного дообщетий уонорью легуо провинаня дуор\n",
      "iter 2200  score:  1090.0588794593896 : едли сь симине торвалятью или почни торвалятью неудн к жного дообщетий уонорью легуо прочинаня дуор\n",
      "iter 2300  score:  1090.0588794593896 : едли сь симине торвалятью или почни торвалятью неудн к жного дообщетий уонорью легуо прочинаня дуор\n",
      "iter 2400  score:  1090.0588794593896 : едли сь симине торвалятью или почни торвалятью неудн к жного дообщетий уонорью легуо прочинаня дуор\n",
      "iter 2500  score:  1090.0588794593896 : едли сь симине торвалятью или почни торвалятью неудн к жного дообщетий уонорью легуо прочинаня дуор\n",
      "iter 2600  score:  1090.0588794593896 : едли сь симине торвалятью или почни торвалятью неудн к жного дообщетий уонорью легуо прочинаня дуор\n",
      "iter 2700  score:  1090.0588794593896 : едли сь симине торвалятью или почни торвалятью неудн к жного дообщетий уонорью легуо прочинаня дуор\n",
      "iter 2800  score:  1090.0588794593896 : едли сь симине торвалятью или почни торвалятью неудн к жного дообщетий уонорью легуо прочинаня дуор\n",
      "iter 2900  score:  1090.0588794593896 : едли сь симине торвалятью или почни торвалятью неудн к жного дообщетий уонорью легуо прочинаня дуор\n",
      "iter 3000  score:  1090.0588794593896 : едли сь симине торвалятью или почни торвалятью неудн к жного дообщетий уонорью легуо прочинаня дуор\n",
      "iter 3100  score:  1095.5284328671573 : едли сь симите норвалянью или почти норвалянью теудт ж этого дообщений уоторью легуо прочитатя дуор\n",
      "iter 3200  score:  1149.1469072500818 : евли сь симите нордалжнью или почти нордалжнью теквт у этого вообщения которью легко прочитатж вкор\n",
      "iter 3300  score:  1149.1469072500818 : евли сь симите нордалжнью или почти нордалжнью теквт у этого вообщения которью легко прочитатж вкор\n",
      "iter 3400  score:  1156.384662067267 : евли сю сидите нормальнюж или почти нормальнюж теквт у этого вообщения которюж легко прочитать вкор\n",
      "iter 3500  score:  1192.578583322189 : если вю видите нормальнюх или почти нормальнюх текст у этого сообщения которюх легко прочитать скор\n",
      "iter 3600  score:  1195.0973915236527 : если вю видите нормальнюх или почти нормальнюх текст у этого сообщения которюх легко прочитать скор\n",
      "iter 3700  score:  1195.0973915236527 : если вю видите нормальнюх или почти нормальнюх текст у этого сообщения которюх легко прочитать скор\n",
      "iter 3800  score:  1252.439274754302 : если вы видите нормальных или почти нормальных текст у этого сообщению которых легко прочитать скор\n",
      "iter 3900  score:  1256.4809271874306 : если вы видите нормальных или почти нормальных текст у этого сообщений которых легко прочитать скор\n",
      "iter 4000  score:  1277.572819356828 : если вы видите нормальных или почти нормальных текст у этого сообщения которых легко прочитать скор\n",
      "iter 4100  score:  1277.572819356828 : если вы видите нормальных или почти нормальных текст у этого сообщения которых легко прочитать скор\n",
      "iter 4200  score:  1279.5187295058834 : если вы видите нормальных или почти нормальных текст у этого сообщения которых легко прочитать скор\n",
      "iter 4300  score:  1279.5187295058834 : если вы видите нормальных или почти нормальных текст у этого сообщения которых легко прочитать скор\n",
      "iter 4400  score:  1280.568551630382 : если вы видите нормальных или почти нормальных текст у этого сообщения которых легко прочитать скор\n",
      "iter 4500  score:  1280.568551630382 : если вы видите нормальных или почти нормальных текст у этого сообщения которых легко прочитать скор\n",
      "iter 4600  score:  1280.568551630382 : если вы видите нормальных или почти нормальных текст у этого сообщения которых легко прочитать скор\n",
      "iter 4700  score:  1280.568551630382 : если вы видите нормальных или почти нормальных текст у этого сообщения которых легко прочитать скор\n",
      "iter 4800  score:  1280.568551630382 : если вы видите нормальных или почти нормальных текст у этого сообщения которых легко прочитать скор\n",
      "iter 4900  score:  1280.568551630382 : если вы видите нормальных или почти нормальных текст у этого сообщения которых легко прочитать скор\n",
      "iter 5000  score:  1280.568551630382 : если вы видите нормальных или почти нормальных текст у этого сообщения которых легко прочитать скор\n",
      "iter 5100  score:  1280.568551630382 : если вы видите нормальных или почти нормальных текст у этого сообщения которых легко прочитать скор\n",
      "iter 5200  score:  1280.568551630382 : если вы видите нормальных или почти нормальных текст у этого сообщения которых легко прочитать скор\n",
      "iter 5300  score:  1280.568551630382 : если вы видите нормальных или почти нормальных текст у этого сообщения которых легко прочитать скор\n",
      "iter 5400  score:  1280.568551630382 : если вы видите нормальных или почти нормальных текст у этого сообщения которых легко прочитать скор\n",
      "iter 5500  score:  1280.568551630382 : если вы видите нормальных или почти нормальных текст у этого сообщения которых легко прочитать скор\n",
      "iter 5600  score:  1280.568551630382 : если вы видите нормальных или почти нормальных текст у этого сообщения которых легко прочитать скор\n",
      "iter 5700  score:  1280.568551630382 : если вы видите нормальных или почти нормальных текст у этого сообщения которых легко прочитать скор\n",
      "iter 5800  score:  1287.9383337265042 : если вы видите нормальный или почти нормальный текст у этого сообщения который легко прочитать скор\n"
     ]
    },
    {
     "name": "stdout",
     "output_type": "stream",
     "text": [
      "iter 5900  score:  1287.9383337265042 : если вы видите нормальный или почти нормальный текст у этого сообщения который легко прочитать скор\n",
      "iter 6000  score:  1287.9383337265042 : если вы видите нормальный или почти нормальный текст у этого сообщения который легко прочитать скор\n",
      "iter 6100  score:  1296.8392345392388 : если вы видите нормальный или почти нормальный текст у этого сообщения который легко прочитать скор\n",
      "iter 6200  score:  1296.8392345392388 : если вы видите нормальный или почти нормальный текст у этого сообщения который легко прочитать скор\n",
      "iter 6300  score:  1296.8392345392388 : если вы видите нормальный или почти нормальный текст у этого сообщения который легко прочитать скор\n",
      "iter 6400  score:  1296.8392345392388 : если вы видите нормальный или почти нормальный текст у этого сообщения который легко прочитать скор\n",
      "iter 6500  score:  1296.8392345392388 : если вы видите нормальный или почти нормальный текст у этого сообщения который легко прочитать скор\n",
      "iter 6600  score:  1296.8392345392388 : если вы видите нормальный или почти нормальный текст у этого сообщения который легко прочитать скор\n",
      "iter 6700  score:  1296.8392345392388 : если вы видите нормальный или почти нормальный текст у этого сообщения который легко прочитать скор\n",
      "iter 6800  score:  1296.8392345392388 : если вы видите нормальный или почти нормальный текст у этого сообщения который легко прочитать скор\n",
      "iter 6900  score:  1296.8392345392388 : если вы видите нормальный или почти нормальный текст у этого сообщения который легко прочитать скор\n",
      "iter 7000  score:  1296.8392345392388 : если вы видите нормальный или почти нормальный текст у этого сообщения который легко прочитать скор\n",
      "iter 7100  score:  1296.8392345392388 : если вы видите нормальный или почти нормальный текст у этого сообщения который легко прочитать скор\n",
      "iter 7200  score:  1296.8392345392388 : если вы видите нормальный или почти нормальный текст у этого сообщения который легко прочитать скор\n",
      "iter 7300  score:  1296.8392345392388 : если вы видите нормальный или почти нормальный текст у этого сообщения который легко прочитать скор\n",
      "iter 7400  score:  1296.8392345392388 : если вы видите нормальный или почти нормальный текст у этого сообщения который легко прочитать скор\n",
      "iter 7500  score:  1296.8392345392388 : если вы видите нормальный или почти нормальный текст у этого сообщения который легко прочитать скор\n",
      "iter 7600  score:  1296.8392345392388 : если вы видите нормальный или почти нормальный текст у этого сообщения который легко прочитать скор\n",
      "iter 7700  score:  1296.8392345392388 : если вы видите нормальный или почти нормальный текст у этого сообщения который легко прочитать скор\n",
      "iter 7800  score:  1296.8392345392388 : если вы видите нормальный или почти нормальный текст у этого сообщения который легко прочитать скор\n",
      "iter 7900  score:  1296.8392345392388 : если вы видите нормальный или почти нормальный текст у этого сообщения который легко прочитать скор\n",
      "iter 8000  score:  1296.8392345392388 : если вы видите нормальный или почти нормальный текст у этого сообщения который легко прочитать скор\n",
      "iter 8100  score:  1296.8392345392388 : если вы видите нормальный или почти нормальный текст у этого сообщения который легко прочитать скор\n",
      "iter 8200  score:  1296.8392345392388 : если вы видите нормальный или почти нормальный текст у этого сообщения который легко прочитать скор\n",
      "iter 8300  score:  1296.8392345392388 : если вы видите нормальный или почти нормальный текст у этого сообщения который легко прочитать скор\n",
      "iter 8400  score:  1296.8392345392388 : если вы видите нормальный или почти нормальный текст у этого сообщения который легко прочитать скор\n",
      "iter 8500  score:  1296.8392345392388 : если вы видите нормальный или почти нормальный текст у этого сообщения который легко прочитать скор\n",
      "iter 8600  score:  1296.8392345392388 : если вы видите нормальный или почти нормальный текст у этого сообщения который легко прочитать скор\n",
      "iter 8700  score:  1296.8392345392388 : если вы видите нормальный или почти нормальный текст у этого сообщения который легко прочитать скор\n",
      "iter 8800  score:  1296.8392345392388 : если вы видите нормальный или почти нормальный текст у этого сообщения который легко прочитать скор\n",
      "iter 8900  score:  1296.8392345392388 : если вы видите нормальный или почти нормальный текст у этого сообщения который легко прочитать скор\n",
      "iter 9000  score:  1296.8392345392388 : если вы видите нормальный или почти нормальный текст у этого сообщения который легко прочитать скор\n",
      "iter 9100  score:  1296.8392345392388 : если вы видите нормальный или почти нормальный текст у этого сообщения который легко прочитать скор\n",
      "iter 9200  score:  1296.8392345392388 : если вы видите нормальный или почти нормальный текст у этого сообщения который легко прочитать скор\n",
      "iter 9300  score:  1296.8392345392388 : если вы видите нормальный или почти нормальный текст у этого сообщения который легко прочитать скор\n",
      "iter 9400  score:  1296.8392345392388 : если вы видите нормальный или почти нормальный текст у этого сообщения который легко прочитать скор\n",
      "iter 9500  score:  1296.8392345392388 : если вы видите нормальный или почти нормальный текст у этого сообщения который легко прочитать скор\n",
      "iter 9600  score:  1296.8392345392388 : если вы видите нормальный или почти нормальный текст у этого сообщения который легко прочитать скор\n",
      "iter 9700  score:  1296.8392345392388 : если вы видите нормальный или почти нормальный текст у этого сообщения который легко прочитать скор\n",
      "iter 9800  score:  1296.8392345392388 : если вы видите нормальный или почти нормальный текст у этого сообщения который легко прочитать скор\n",
      "iter 9900  score:  1296.8392345392388 : если вы видите нормальный или почти нормальный текст у этого сообщения который легко прочитать скор\n"
     ]
    }
   ],
   "source": [
    "test_text = \"დჳჵჂႨშႼႨშჂხჂჲდႨსႹႭჾႣჵისႼჰႨჂჵჂႨႲႹႧჲჂႨსႹႭჾႣჵისႼჰႨჲდႩჳჲႨჇႨႠჲႹქႹႨჳႹႹჱჶდსჂႽႨႩႹჲႹႭႼჰႨჵდქႩႹႨႲႭႹႧჂჲႣჲიႨჳႩႹႭდდႨშჳდქႹႨშႼႨშჳდႨჳხდჵႣჵჂႨႲႭႣშჂჵისႹႨჂႨႲႹჵჇႧჂჲდႨჾႣႩჳჂჾႣჵისႼჰႨჱႣჵჵႨეႣႨႲႹჳჵდხსდდႨႧდჲშდႭჲႹდႨეႣხႣსჂდႨႩჇႭჳႣႨႾႹჲႽႨႩႹსდႧსႹႨႽႨსჂႧდქႹႨსდႨႹჱდჶႣნ\"\n",
    "ivrit = []\n",
    "for ch in test_text:\n",
    "    ivrit.append(ch)\n",
    "ivrit = np.unique(ivrit)\n",
    "index = np.arange(len(russian)+1)\n",
    "index = list(map(str, index))\n",
    "index[:len(ivrit)] = ivrit\n",
    "cipher = dict(list(zip(np.random.permutation(index), russian+' '))) \n",
    "\n",
    "n_iter = 10000\n",
    "prev_score = 0\n",
    "best_cipher = cipher.copy()\n",
    "best_score = prev_score\n",
    "scores = []\n",
    "for iter in range(n_iter):\n",
    "    proposed_cipher = generate_cipher(cipher) #ключ-претендент\n",
    "    decrypted_text = decrypt(test_text, proposed_cipher) #пробуем расшифровать текст заданным ключом\n",
    "    decrypted_freqs = get_freqs_trigram(decrypted_text) # получаем частоты для расшифрованного текста\n",
    "    current_score = score(decrypted_freqs, wap_freqs_3) # считаем целевую функцию\n",
    "    scores.append(current_score)\n",
    "    if current_score > prev_score:\n",
    "        prev_score = current_score\n",
    "        cipher = proposed_cipher.copy()\n",
    "        if current_score > best_score:\n",
    "            best_cipher = proposed_cipher.copy()\n",
    "            best_score = current_score\n",
    "    else:\n",
    "        p = np.exp(current_score - prev_score)\n",
    "        unif = random.uniform(0,1)\n",
    "        if unif<p:\n",
    "            cipher = proposed_cipher.copy()\n",
    "    if iter%100==0:\n",
    "        print(\"iter\",iter, \" score: \", best_score,\":\", decrypt(test_text, best_cipher)[:99])\n",
    "    "
   ]
  },
  {
   "cell_type": "code",
   "execution_count": 25,
   "metadata": {},
   "outputs": [
    {
     "data": {
      "text/plain": [
       "'если вы видите нормальный или почти нормальный текст у этого сообщения который легко прочитать скорее всего вы все сделали правильно и получите максимальный балл за последнее четвертое задание курса хотя конечно я ничего не обещаю'"
      ]
     },
     "execution_count": 25,
     "metadata": {},
     "output_type": "execute_result"
    }
   ],
   "source": [
    "decrypt(test_text, best_cipher)"
   ]
  },
  {
   "cell_type": "markdown",
   "metadata": {},
   "source": [
    "Ну тут вообще сказка. Для триграмм получается расшифровать сообщение точнее и при меньшем количестве запусков алгоритма между успешными попытками) "
   ]
  },
  {
   "cell_type": "code",
   "execution_count": 27,
   "metadata": {},
   "outputs": [
    {
     "data": {
      "text/plain": [
       "[<matplotlib.lines.Line2D at 0x7fb5290c8c10>]"
      ]
     },
     "execution_count": 27,
     "metadata": {},
     "output_type": "execute_result"
    },
    {
     "data": {
      "image/png": "[encoded data removed]",
      "text/plain": [
       "<Figure size 432x288 with 1 Axes>"
      ]
     },
     "metadata": {
      "needs_background": "light"
     },
     "output_type": "display_data"
    }
   ],
   "source": [
    "plt.plot(scores)"
   ]
  },
  {
   "cell_type": "markdown",
   "metadata": {},
   "source": [
    "### 6"
   ]
  },
  {
   "cell_type": "markdown",
   "metadata": {},
   "source": [
    "При передаче информации MCMC-семплирование используется для восстановления потерянной информации. широкое прменение мсмс-семплирование нашло в популяционной генетике:  \n",
    "- Altekar G.,  J. P. Huelsenbeck &  F. Ronquist (2004). Parallel Metropolis coupled Markov chain Monte Carlo for Bayesian phylogenetic inference, Bioinformatics, 20 (3) 407-415. DOI: http://dx.doi.org/10.1093/bioinformatics/btg427 \n",
    "- Gilbert K.J., Dan G. Bock, Michelle T. Franklin, Nolan C. Kane, Jean-Sébastien Moore, Brook T. Moyers, Sébastien Renaut, Diana J. Rennison, Thor Veen & Timothy H. Vines & (2012). Recommendations for utilizing and reporting population genetic analyses: the reproducibility of genetic clustering using the program structure , Molecular Ecology, 21 (20) 4925-4930. DOI: http://dx.doi.org/10.1111/j.1365-294x.2012.05754.x  \n",
    "- Hey J. (2010). Isolation with migration models for more than two populations, Molecular Biology and Evolution, 27 (4) 905-920. DOI: http://dx.doi.org/10.1093/molbev/msp296  \n",
    "- Kuhner M.K., Yamato J. & Felsenstein J. (1995). Estimating effective population size and mutation rate from sequence data using Metropolis-Hastings sampling., Genetics, 140 (4) 1421-1430. PMID: http://www.ncbi.nlm.nih.gov/pubmed/7498781"
   ]
  }
 ],
 "metadata": {
  "kernelspec": {
   "display_name": "Python 3",
   "language": "python",
   "name": "python3"
  },
  "language_info": {
   "codemirror_mode": {
    "name": "ipython",
    "version": 3
   },
   "file_extension": ".py",
   "mimetype": "text/x-python",
   "name": "python",
   "nbconvert_exporter": "python",
   "pygments_lexer": "ipython3",
   "version": "3.8.5"
  }
 },
 "nbformat": 4,
 "nbformat_minor": 4
}
